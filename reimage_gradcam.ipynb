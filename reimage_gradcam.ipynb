{
 "cells": [
  {
   "cell_type": "code",
   "execution_count": null,
   "metadata": {},
   "outputs": [],
   "source": [
    "import torch\n",
    "\n",
    "\n",
    "examples = enumerate(validation_loader)\n",
    "batch_idx, (example_data, example_targets) = next(examples)"
   ]
  },
  {
   "cell_type": "code",
   "execution_count": null,
   "metadata": {},
   "outputs": [],
   "source": [
    "torch.save(model,'save.pt')\n",
    "img_dir = \"/content/drive/My Drive\"\n",
    "model=torch.load(os.path.join(img_dir,\"20cnn.pt\"), map_location='cpu') \n",
    "\n",
    "model.eval()\n",
    "\n",
    "\n",
    "from pytorch_grad_cam import GradCAM, ScoreCAM, GradCAMPlusPlus, AblationCAM, XGradCAM, EigenCAM\n",
    "from pytorch_grad_cam.utils.image import show_cam_on_image, deprocess_image, preprocess_image\n",
    "import matplotlib.pyplot as plt\n",
    "import cv2\n",
    "from google.colab.patches import cv2_imshow\n",
    "from PIL import Image\n",
    "\n",
    "\n",
    "im_tensor = example_data\n",
    "im_tensor=im_tensor.reshape(len(example_data),1,64,60)\n",
    "input_tensor = im_tensor[-1]\n",
    "input_tensor = input_tensor.reshape(1,1,64,60)\n",
    "\n",
    "rgb_img = cv2.cvtColor(np.array(example_data[-1][0]).astype(np.uint8), cv2.COLOR_GRAY2BGR)\n",
    "rgb_img = np.float32(rgb_img) \n",
    "\n",
    "\n",
    "\n",
    "target_layers = [[model.conv1],[model.conv2],[model.conv3]] \n",
    "plt.figure(figsize=(8,8), dpi=80)\n",
    "plt.figure(1)\n",
    "\n",
    "\n",
    "img = np.array(example_data[-1][0]).astype(np.uint8)      \n",
    "example_data3=Image.fromarray(img).convert( \"L\" ) # numpy 转 image类\n",
    "ax1 = plt.subplot(2,2,1)\n",
    "ax1.imshow(example_data3)\n",
    "plt.title(\"Original OHLC\")\n",
    "for id, layer in enumerate(target_layers):\n",
    "    cam = GradCAM(model=model, target_layers=layer)\n",
    "    cam = cam(input_tensor=input_tensor, targets=None)\n",
    "\n",
    "    grayscale_cam = cam[0,:]\n",
    "\n",
    "    visualization = show_cam_on_image(np.array(rgb_img).astype(np.uint8) , grayscale_cam, use_rgb=False)\n",
    "    ax1 = plt.subplot(2,2,id+2)\n",
    "    ax1.imshow(visualization)\n",
    "    plt.title(\"Layer {} OHLC\".format(id+1))\n",
    "plt.show()"
   ]
  }
 ],
 "metadata": {
  "language_info": {
   "name": "python"
  },
  "orig_nbformat": 4
 },
 "nbformat": 4,
 "nbformat_minor": 2
}
